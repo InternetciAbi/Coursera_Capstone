{
    "cells": [
        {
            "metadata": {},
            "cell_type": "markdown",
            "source": "# Capstone Project\n# The Battle of Neighborhoods"
        },
        {
            "metadata": {},
            "cell_type": "markdown",
            "source": "## Introduction\n\n- Toronto is a multicultural city with growing population (4,3% increase between 2011-2016). It is an attractive city for new investments.\n- Fast growing areas in the city may have high potential for investors and entrepreneurs.\n- Willowsdale East recognized as a fast-growing area with 62,3% change in population between 2001 and 2016. Business opportunities in this neighborhood are analyzed in this project. \n- Investment for a new venue in Willowdale East will be evaluated, since we will use Foursquare data for this project.\n\n### Problem: Which venue categories promise the best business opportunities?\n### Approach: Collaborative filtering approach is applied in this project, in order to find the most similar neighborhoods and identify opportunities by comparing Willowdale East with most similar neighborhoods."
        },
        {
            "metadata": {
                "collapsed": true
            },
            "cell_type": "markdown",
            "source": "#### Import all the libraries"
        },
        {
            "metadata": {},
            "cell_type": "code",
            "source": "import numpy as np # library for vectorized computation\nimport pandas as pd # library to process data as dataframes\n\nimport matplotlib.pyplot as plt # plotting library\n# backend for rendering plots within the browser\n%matplotlib inline \n# Matplotlib and associated plotting modules\nimport matplotlib.cm as cm\nimport matplotlib.colors as colors\nfrom math import sqrt\n\nfrom sklearn.cluster import KMeans \n\nimport json # library to handle JSON files\nimport requests # library to handle requests\nfrom pandas.io.json import json_normalize # tranform JSON file into a pandas dataframe\n\n# import k-means from clustering stage\nfrom sklearn.cluster import KMeans\n\nprint('Libraries imported.')",
            "execution_count": 1,
            "outputs": [
                {
                    "output_type": "stream",
                    "text": "Libraries imported.\n",
                    "name": "stdout"
                }
            ]
        },
        {
            "metadata": {},
            "cell_type": "markdown",
            "source": "#### Scrape Toronto data"
        },
        {
            "metadata": {},
            "cell_type": "code",
            "source": "#Scrape data\ntable=pd.read_html(\"https://en.wikipedia.org/w/index.php?title=List_of_postal_codes_of_Canada:_M&oldid=1011037969\")\ntoronto_data=pd.DataFrame(table[0])\ntoronto_data.head()\n\n#Delete the rows where Borough is not assigned\ntoronto_data['Borough'].replace('Not assigned',np.nan, inplace=True)\ntoronto_data.dropna(subset=['Borough'], axis=0, inplace=True)\n\n#Groupby Postal Code\ntoronto_data.groupby(['Postal Code','Borough'])['Neighbourhood'].apply(lambda x: ','.join(x)).reset_index()\ntoronto_data[['Postal Code','Borough','Neighbourhood']].drop_duplicates()\ntoronto_data.rename(columns={\"Neighbourhood\":\"Neighborhood\"}, inplace=True)\n\n\ntoronto_data.shape",
            "execution_count": 2,
            "outputs": [
                {
                    "output_type": "execute_result",
                    "execution_count": 2,
                    "data": {
                        "text/plain": "(103, 3)"
                    },
                    "metadata": {}
                }
            ]
        },
        {
            "metadata": {},
            "cell_type": "code",
            "source": "toronto_data.head()",
            "execution_count": 3,
            "outputs": [
                {
                    "output_type": "execute_result",
                    "execution_count": 3,
                    "data": {
                        "text/plain": "  Postal Code           Borough                                 Neighborhood\n2         M3A        North York                                    Parkwoods\n3         M4A        North York                             Victoria Village\n4         M5A  Downtown Toronto                    Regent Park, Harbourfront\n5         M6A        North York             Lawrence Manor, Lawrence Heights\n6         M7A  Downtown Toronto  Queen's Park, Ontario Provincial Government",
                        "text/html": "<div>\n<style scoped>\n    .dataframe tbody tr th:only-of-type {\n        vertical-align: middle;\n    }\n\n    .dataframe tbody tr th {\n        vertical-align: top;\n    }\n\n    .dataframe thead th {\n        text-align: right;\n    }\n</style>\n<table border=\"1\" class=\"dataframe\">\n  <thead>\n    <tr style=\"text-align: right;\">\n      <th></th>\n      <th>Postal Code</th>\n      <th>Borough</th>\n      <th>Neighborhood</th>\n    </tr>\n  </thead>\n  <tbody>\n    <tr>\n      <th>2</th>\n      <td>M3A</td>\n      <td>North York</td>\n      <td>Parkwoods</td>\n    </tr>\n    <tr>\n      <th>3</th>\n      <td>M4A</td>\n      <td>North York</td>\n      <td>Victoria Village</td>\n    </tr>\n    <tr>\n      <th>4</th>\n      <td>M5A</td>\n      <td>Downtown Toronto</td>\n      <td>Regent Park, Harbourfront</td>\n    </tr>\n    <tr>\n      <th>5</th>\n      <td>M6A</td>\n      <td>North York</td>\n      <td>Lawrence Manor, Lawrence Heights</td>\n    </tr>\n    <tr>\n      <th>6</th>\n      <td>M7A</td>\n      <td>Downtown Toronto</td>\n      <td>Queen's Park, Ontario Provincial Government</td>\n    </tr>\n  </tbody>\n</table>\n</div>"
                    },
                    "metadata": {}
                }
            ]
        },
        {
            "metadata": {},
            "cell_type": "markdown",
            "source": "#### Import geospatial data"
        },
        {
            "metadata": {},
            "cell_type": "code",
            "source": "!wget -O geo_data.csv http://cocl.us/Geospatial_data\ndf_geo=pd.read_csv('geo_data.csv')\ndf_geo.head()",
            "execution_count": 4,
            "outputs": [
                {
                    "output_type": "stream",
                    "text": "--2021-03-19 17:21:10--  http://cocl.us/Geospatial_data\nResolving cocl.us (cocl.us)... 52.116.121.148, 52.116.127.82\nConnecting to cocl.us (cocl.us)|52.116.121.148|:80... connected.\nHTTP request sent, awaiting response... 308 Permanent Redirect\nLocation: https://cocl.us/Geospatial_data [following]\n--2021-03-19 17:21:11--  https://cocl.us/Geospatial_data\nConnecting to cocl.us (cocl.us)|52.116.121.148|:443... connected.\nHTTP request sent, awaiting response... 301 Moved Permanently\nLocation: https://ibm.box.com/shared/static/9afzr83pps4pwf2smjjcf1y5mvgb18rr.csv [following]\n--2021-03-19 17:21:12--  https://ibm.box.com/shared/static/9afzr83pps4pwf2smjjcf1y5mvgb18rr.csv\nResolving ibm.box.com (ibm.box.com)... 107.152.29.197\nConnecting to ibm.box.com (ibm.box.com)|107.152.29.197|:443... connected.\nHTTP request sent, awaiting response... 301 Moved Permanently\nLocation: /public/static/9afzr83pps4pwf2smjjcf1y5mvgb18rr.csv [following]\n--2021-03-19 17:21:12--  https://ibm.box.com/public/static/9afzr83pps4pwf2smjjcf1y5mvgb18rr.csv\nReusing existing connection to ibm.box.com:443.\nHTTP request sent, awaiting response... 301 Moved Permanently\nLocation: https://ibm.ent.box.com/public/static/9afzr83pps4pwf2smjjcf1y5mvgb18rr.csv [following]\n--2021-03-19 17:21:13--  https://ibm.ent.box.com/public/static/9afzr83pps4pwf2smjjcf1y5mvgb18rr.csv\nResolving ibm.ent.box.com (ibm.ent.box.com)... 107.152.29.201\nConnecting to ibm.ent.box.com (ibm.ent.box.com)|107.152.29.201|:443... connected.\nHTTP request sent, awaiting response... 302 Found\nLocation: https://public.boxcloud.com/d/1/b1!PU8f5o3puOFT63OpexzjdTkhp9YZBrTe9GvgzrH3S0AbApnVGOu95VgFGEmnrXqYtNMu7OIFNgC7rqD_Mseqnl4Tbe9cW6qZMmQxm96c9Fp48bffjDaxbuygYOBk4n0DrJAXP6ulZONr2sm3RTuRue4n-7PRb7gAM43FMQGoWflYRKMqTyfjnCmb_LSwXVrcGvIZHi97pEp09Jb-f9xBdDNNnqNKueroMiVN75YJUdDRvKjufLstqOBtQkxed-v0aRWQRe1pzeMSPRKLw0fkFXms5z7sS8AnFslJ6DG7jxHDqBtej_FdmXT8AxVqTZXYi36RilB4ZJb0P2jiKfZy3cR5T1-vOM5Do47aCdakMkI4_PmTJDkO891L2twms982E5hzSJdYkxIt_DHXuXM1nIabezB6NMw2Px1-fmIEs4iCzvZoQn8trCvjWdkUBUOevI4Av2k-3gl-TzvRLrVYhBU7Vz4eeMOJiRcP81hNmfKwj1YrjlxQRkvq_dXAo2MGwk-hButNz8MOfnwytHay0sR6pHJ0WFmumb7mXQYb2MWXXERKwPQNwGWZqmVmhlN2oyz6NB-c0qLLlRqsS1Vtsa1PHSMiK67s568IR-NOZfApxn8uHBHf6EhOd5Ca_fZPKCd0kVI2SqMQCiCegreI2M0XKxITwyt9jbPlgH-mTCzES2Ba-3FU9ck-I17zv7f4j924joDkpDFfLAOpR2JWrrGxUBuX1XvJkz0XkiXQeTSLAsKS4AopSn_VYOA2netKA-L5O1Ni3PZkav7IdD6MueiJd6Ciz3eHYUTd30lG_ixiWGHQBV2qKX2CYx2KVU8t4Qyvz6DwkIh25lcLNl6z4yLQR0TTkik39grYjAroy-tSFYOdmLIG4DDFhagY_PLiXE8tGOUk6cl0aByS-0MVJEteCc3phC8Ayt5hgxPQdvENzQo1gbAd1rPwwUfuqqAwCZyGVTsekJLrRe5WC1P2PyuxIqDWb8MBFCKIhGbX_LbpjnZ3gQIVBNarMxUt-FV-GhY7Sapw1oz-9lNx-gxdLsA7DmRUqzlDA_gGZVN6PDlqFI5WwIxYZdsDehH533t3Hb5usuKWKmBY2-iy9K621Dwp5Qj-Sy1yqrcgulBccM_CREBqfbqDenq8MgOujEb8Nfgv_B2XgNyZ426dqnzbzvne6OM5SjvJdU65q2IJdEnaplqo11Vs2o3G7Dddm3s3PEh6sj_soDgh1rJS6hJrpgPfq7KR3HQpeTUlD59HcDVU01W6N_jrC1BS8K7URZqWyxl8N669jtPX-yfEzPsPxQp2meg7MMXJk1lRO06tZWAbya5r-JdgpqwUyMEnaMcbU6r28l9rTXOweozD52OLdu47bg28tpeSMC5i3yEHqOb6l_iibyHtPI-l3jRWDlcsgZZhyoEJPm3UbmeaZ5Z24ODOU_BKc4g3pxAnsGAFFx2wVihOsoVvD2EOdjCk6dojwmcwwoBxBXrLL7aR/download [following]\n--2021-03-19 17:21:14--  https://public.boxcloud.com/d/1/b1!PU8f5o3puOFT63OpexzjdTkhp9YZBrTe9GvgzrH3S0AbApnVGOu95VgFGEmnrXqYtNMu7OIFNgC7rqD_Mseqnl4Tbe9cW6qZMmQxm96c9Fp48bffjDaxbuygYOBk4n0DrJAXP6ulZONr2sm3RTuRue4n-7PRb7gAM43FMQGoWflYRKMqTyfjnCmb_LSwXVrcGvIZHi97pEp09Jb-f9xBdDNNnqNKueroMiVN75YJUdDRvKjufLstqOBtQkxed-v0aRWQRe1pzeMSPRKLw0fkFXms5z7sS8AnFslJ6DG7jxHDqBtej_FdmXT8AxVqTZXYi36RilB4ZJb0P2jiKfZy3cR5T1-vOM5Do47aCdakMkI4_PmTJDkO891L2twms982E5hzSJdYkxIt_DHXuXM1nIabezB6NMw2Px1-fmIEs4iCzvZoQn8trCvjWdkUBUOevI4Av2k-3gl-TzvRLrVYhBU7Vz4eeMOJiRcP81hNmfKwj1YrjlxQRkvq_dXAo2MGwk-hButNz8MOfnwytHay0sR6pHJ0WFmumb7mXQYb2MWXXERKwPQNwGWZqmVmhlN2oyz6NB-c0qLLlRqsS1Vtsa1PHSMiK67s568IR-NOZfApxn8uHBHf6EhOd5Ca_fZPKCd0kVI2SqMQCiCegreI2M0XKxITwyt9jbPlgH-mTCzES2Ba-3FU9ck-I17zv7f4j924joDkpDFfLAOpR2JWrrGxUBuX1XvJkz0XkiXQeTSLAsKS4AopSn_VYOA2netKA-L5O1Ni3PZkav7IdD6MueiJd6Ciz3eHYUTd30lG_ixiWGHQBV2qKX2CYx2KVU8t4Qyvz6DwkIh25lcLNl6z4yLQR0TTkik39grYjAroy-tSFYOdmLIG4DDFhagY_PLiXE8tGOUk6cl0aByS-0MVJEteCc3phC8Ayt5hgxPQdvENzQo1gbAd1rPwwUfuqqAwCZyGVTsekJLrRe5WC1P2PyuxIqDWb8MBFCKIhGbX_LbpjnZ3gQIVBNarMxUt-FV-GhY7Sapw1oz-9lNx-gxdLsA7DmRUqzlDA_gGZVN6PDlqFI5WwIxYZdsDehH533t3Hb5usuKWKmBY2-iy9K621Dwp5Qj-Sy1yqrcgulBccM_CREBqfbqDenq8MgOujEb8Nfgv_B2XgNyZ426dqnzbzvne6OM5SjvJdU65q2IJdEnaplqo11Vs2o3G7Dddm3s3PEh6sj_soDgh1rJS6hJrpgPfq7KR3HQpeTUlD59HcDVU01W6N_jrC1BS8K7URZqWyxl8N669jtPX-yfEzPsPxQp2meg7MMXJk1lRO06tZWAbya5r-JdgpqwUyMEnaMcbU6r28l9rTXOweozD52OLdu47bg28tpeSMC5i3yEHqOb6l_iibyHtPI-l3jRWDlcsgZZhyoEJPm3UbmeaZ5Z24ODOU_BKc4g3pxAnsGAFFx2wVihOsoVvD2EOdjCk6dojwmcwwoBxBXrLL7aR/download\nResolving public.boxcloud.com (public.boxcloud.com)... 185.235.236.200\nConnecting to public.boxcloud.com (public.boxcloud.com)|185.235.236.200|:443... connected.\nHTTP request sent, awaiting response... 200 OK\nLength: 2891 (2.8K) [text/csv]\nSaving to: \u2018geo_data.csv\u2019\n\ngeo_data.csv        100%[===================>]   2.82K  --.-KB/s    in 0s      \n\n2021-03-19 17:21:14 (43.1 MB/s) - \u2018geo_data.csv\u2019 saved [2891/2891]\n\n",
                    "name": "stdout"
                },
                {
                    "output_type": "execute_result",
                    "execution_count": 4,
                    "data": {
                        "text/plain": "  Postal Code   Latitude  Longitude\n0         M1B  43.806686 -79.194353\n1         M1C  43.784535 -79.160497\n2         M1E  43.763573 -79.188711\n3         M1G  43.770992 -79.216917\n4         M1H  43.773136 -79.239476",
                        "text/html": "<div>\n<style scoped>\n    .dataframe tbody tr th:only-of-type {\n        vertical-align: middle;\n    }\n\n    .dataframe tbody tr th {\n        vertical-align: top;\n    }\n\n    .dataframe thead th {\n        text-align: right;\n    }\n</style>\n<table border=\"1\" class=\"dataframe\">\n  <thead>\n    <tr style=\"text-align: right;\">\n      <th></th>\n      <th>Postal Code</th>\n      <th>Latitude</th>\n      <th>Longitude</th>\n    </tr>\n  </thead>\n  <tbody>\n    <tr>\n      <th>0</th>\n      <td>M1B</td>\n      <td>43.806686</td>\n      <td>-79.194353</td>\n    </tr>\n    <tr>\n      <th>1</th>\n      <td>M1C</td>\n      <td>43.784535</td>\n      <td>-79.160497</td>\n    </tr>\n    <tr>\n      <th>2</th>\n      <td>M1E</td>\n      <td>43.763573</td>\n      <td>-79.188711</td>\n    </tr>\n    <tr>\n      <th>3</th>\n      <td>M1G</td>\n      <td>43.770992</td>\n      <td>-79.216917</td>\n    </tr>\n    <tr>\n      <th>4</th>\n      <td>M1H</td>\n      <td>43.773136</td>\n      <td>-79.239476</td>\n    </tr>\n  </tbody>\n</table>\n</div>"
                    },
                    "metadata": {}
                }
            ]
        },
        {
            "metadata": {},
            "cell_type": "markdown",
            "source": "#### Merge Toronto data with geospatial data"
        },
        {
            "metadata": {},
            "cell_type": "code",
            "source": "toronto_data=toronto_data.merge(df_geo, left_on='Postal Code', right_on='Postal Code')\ntoronto_data.head()",
            "execution_count": 5,
            "outputs": [
                {
                    "output_type": "execute_result",
                    "execution_count": 5,
                    "data": {
                        "text/plain": "  Postal Code           Borough                                 Neighborhood  \\\n0         M3A        North York                                    Parkwoods   \n1         M4A        North York                             Victoria Village   \n2         M5A  Downtown Toronto                    Regent Park, Harbourfront   \n3         M6A        North York             Lawrence Manor, Lawrence Heights   \n4         M7A  Downtown Toronto  Queen's Park, Ontario Provincial Government   \n\n    Latitude  Longitude  \n0  43.753259 -79.329656  \n1  43.725882 -79.315572  \n2  43.654260 -79.360636  \n3  43.718518 -79.464763  \n4  43.662301 -79.389494  ",
                        "text/html": "<div>\n<style scoped>\n    .dataframe tbody tr th:only-of-type {\n        vertical-align: middle;\n    }\n\n    .dataframe tbody tr th {\n        vertical-align: top;\n    }\n\n    .dataframe thead th {\n        text-align: right;\n    }\n</style>\n<table border=\"1\" class=\"dataframe\">\n  <thead>\n    <tr style=\"text-align: right;\">\n      <th></th>\n      <th>Postal Code</th>\n      <th>Borough</th>\n      <th>Neighborhood</th>\n      <th>Latitude</th>\n      <th>Longitude</th>\n    </tr>\n  </thead>\n  <tbody>\n    <tr>\n      <th>0</th>\n      <td>M3A</td>\n      <td>North York</td>\n      <td>Parkwoods</td>\n      <td>43.753259</td>\n      <td>-79.329656</td>\n    </tr>\n    <tr>\n      <th>1</th>\n      <td>M4A</td>\n      <td>North York</td>\n      <td>Victoria Village</td>\n      <td>43.725882</td>\n      <td>-79.315572</td>\n    </tr>\n    <tr>\n      <th>2</th>\n      <td>M5A</td>\n      <td>Downtown Toronto</td>\n      <td>Regent Park, Harbourfront</td>\n      <td>43.654260</td>\n      <td>-79.360636</td>\n    </tr>\n    <tr>\n      <th>3</th>\n      <td>M6A</td>\n      <td>North York</td>\n      <td>Lawrence Manor, Lawrence Heights</td>\n      <td>43.718518</td>\n      <td>-79.464763</td>\n    </tr>\n    <tr>\n      <th>4</th>\n      <td>M7A</td>\n      <td>Downtown Toronto</td>\n      <td>Queen's Park, Ontario Provincial Government</td>\n      <td>43.662301</td>\n      <td>-79.389494</td>\n    </tr>\n  </tbody>\n</table>\n</div>"
                    },
                    "metadata": {}
                }
            ]
        },
        {
            "metadata": {},
            "cell_type": "markdown",
            "source": "\n\n## Use venue explore ressource from Foursquare"
        },
        {
            "metadata": {},
            "cell_type": "code",
            "source": "CLIENT_ID = '' # your Foursquare ID\nCLIENT_SECRET = '' # your Foursquare Secret\nVERSION = '20180605' # Foursquare API version\nLIMIT = 100 # A default Foursquare API limit value\nACCESS_TOKEN = '' # your FourSquare Access Token\n\nprint('Your credentails:')\nprint('CLIENT_ID: ' + CLIENT_ID)\nprint('CLIENT_SECRET:' + CLIENT_SECRET)",
            "execution_count": 4,
            "outputs": [
                {
                    "output_type": "stream",
                    "text": "Your credentails:\nCLIENT_ID: \nCLIENT_SECRET:\n",
                    "name": "stdout"
                }
            ]
        },
        {
            "metadata": {},
            "cell_type": "code",
            "source": "def getNearbyVenues(names, latitudes, longitudes, radius=500):\n    \n    venues_list=[]\n    for name, lat, lng in zip(names, latitudes, longitudes):\n        print(name)\n            \n        # create the API request URL\n        url = 'https://api.foursquare.com/v2/venues/explore?&client_id={}&client_secret={}&v={}&ll={},{}&radius={}&limit={}'.format(\n            CLIENT_ID, \n            CLIENT_SECRET, \n            VERSION, \n            lat, \n            lng, \n            radius, \n            LIMIT)\n            \n        # make the GET request\n        results = requests.get(url).json()[\"response\"]['groups'][0]['items']\n        \n        # return only relevant information for each nearby venue\n        venues_list.append([(\n            name, \n            lat, \n            lng,\n            v['venue']['id'],\n            v['venue']['name'], \n            v['venue']['location']['lat'], \n            v['venue']['location']['lng'],\n            v['venue']['categories'][0]['id'],\n            v['venue']['categories'][0]['name']) for v in results])\n\n    nearby_venues = pd.DataFrame([item for venue_list in venues_list for item in venue_list])\n    nearby_venues.columns = ['Neighborhood', \n                  'Neighborhood Latitude', \n                  'Neighborhood Longitude',\n                  'Venue ID',\n                  'Venue', \n                  'Venue Latitude', \n                  'Venue Longitude',\n                  'Category ID',\n                  'Venue Category']\n    \n    return(nearby_venues)",
            "execution_count": 7,
            "outputs": []
        },
        {
            "metadata": {},
            "cell_type": "code",
            "source": "toronto_venues = getNearbyVenues(names=toronto_data['Neighborhood'],\n                                   latitudes=toronto_data['Latitude'],\n                                   longitudes=toronto_data['Longitude']\n                                  )",
            "execution_count": 8,
            "outputs": [
                {
                    "output_type": "stream",
                    "text": "Parkwoods\nVictoria Village\nRegent Park, Harbourfront\nLawrence Manor, Lawrence Heights\nQueen's Park, Ontario Provincial Government\nIslington Avenue, Humber Valley Village\nMalvern, Rouge\nDon Mills\nParkview Hill, Woodbine Gardens\nGarden District, Ryerson\nGlencairn\nWest Deane Park, Princess Gardens, Martin Grove, Islington, Cloverdale\nRouge Hill, Port Union, Highland Creek\nDon Mills\nWoodbine Heights\nSt. James Town\nHumewood-Cedarvale\nEringate, Bloordale Gardens, Old Burnhamthorpe, Markland Wood\nGuildwood, Morningside, West Hill\nThe Beaches\nBerczy Park\nCaledonia-Fairbanks\nWoburn\nLeaside\nCentral Bay Street\nChristie\nCedarbrae\nHillcrest Village\nBathurst Manor, Wilson Heights, Downsview North\nThorncliffe Park\nRichmond, Adelaide, King\nDufferin, Dovercourt Village\nScarborough Village\nFairview, Henry Farm, Oriole\nNorthwood Park, York University\nEast Toronto, Broadview North (Old East York)\nHarbourfront East, Union Station, Toronto Islands\nLittle Portugal, Trinity\nKennedy Park, Ionview, East Birchmount Park\nBayview Village\nDownsview\nThe Danforth West, Riverdale\nToronto Dominion Centre, Design Exchange\nBrockton, Parkdale Village, Exhibition Place\nGolden Mile, Clairlea, Oakridge\nYork Mills, Silver Hills\nDownsview\nIndia Bazaar, The Beaches West\nCommerce Court, Victoria Hotel\nNorth Park, Maple Leaf Park, Upwood Park\nHumber Summit\nCliffside, Cliffcrest, Scarborough Village West\nWillowdale, Newtonbrook\nDownsview\nStudio District\nBedford Park, Lawrence Manor East\nDel Ray, Mount Dennis, Keelsdale and Silverthorn\nHumberlea, Emery\nBirch Cliff, Cliffside West\nWillowdale, Willowdale East\nDownsview\nLawrence Park\nRoselawn\nRunnymede, The Junction, Weston-Pellam Park, Carlton Village\nWeston\nDorset Park, Wexford Heights, Scarborough Town Centre\nYork Mills West\nDavisville North\nForest Hill North & West, Forest Hill Road Park\nHigh Park, The Junction South\nWestmount\nWexford, Maryvale\nWillowdale, Willowdale West\nNorth Toronto West, Lawrence Park\nThe Annex, North Midtown, Yorkville\nParkdale, Roncesvalles\nCanada Post Gateway Processing Centre\nKingsview Village, St. Phillips, Martin Grove Gardens, Richview Gardens\nAgincourt\nDavisville\nUniversity of Toronto, Harbord\nRunnymede, Swansea\nClarks Corners, Tam O'Shanter, Sullivan\nMoore Park, Summerhill East\nKensington Market, Chinatown, Grange Park\nMilliken, Agincourt North, Steeles East, L'Amoreaux East\nSummerhill West, Rathnelly, South Hill, Forest Hill SE, Deer Park\nCN Tower, King and Spadina, Railway Lands, Harbourfront West, Bathurst Quay, South Niagara, Island airport\nNew Toronto, Mimico South, Humber Bay Shores\nSouth Steeles, Silverstone, Humbergate, Jamestown, Mount Olive, Beaumond Heights, Thistletown, Albion Gardens\nSteeles West, L'Amoreaux West\nRosedale\nStn A PO Boxes\nAlderwood, Long Branch\nNorthwest, West Humber - Clairville\nUpper Rouge\nSt. James Town, Cabbagetown\nFirst Canadian Place, Underground city\nThe Kingsway, Montgomery Road, Old Mill North\nChurch and Wellesley\nBusiness reply mail Processing Centre, South Central Letter Processing Plant Toronto\nOld Mill South, King's Mill Park, Sunnylea, Humber Bay, Mimico NE, The Queensway East, Royal York South East, Kingsway Park South East\nMimico NW, The Queensway West, South of Bloor, Kingsway Park South West, Royal York South West\n",
                    "name": "stdout"
                }
            ]
        },
        {
            "metadata": {},
            "cell_type": "code",
            "source": "toronto_venues.head()",
            "execution_count": 9,
            "outputs": [
                {
                    "output_type": "execute_result",
                    "execution_count": 9,
                    "data": {
                        "text/plain": "       Neighborhood  Neighborhood Latitude  Neighborhood Longitude  \\\n0         Parkwoods              43.753259              -79.329656   \n1         Parkwoods              43.753259              -79.329656   \n2  Victoria Village              43.725882              -79.315572   \n3  Victoria Village              43.725882              -79.315572   \n4  Victoria Village              43.725882              -79.315572   \n\n                   Venue ID                   Venue  Venue Latitude  \\\n0  4e8d9dcdd5fbbbb6b3003c7b         Brookbanks Park       43.751976   \n1  4cb11e2075ebb60cd1c4caad           Variety Store       43.751974   \n2  4c633acb86b6be9a61268e34  Victoria Village Arena       43.723481   \n3  4f3ecce6e4b0587016b6f30d               Portugril       43.725819   \n4  4bbe904a85fbb713420d7167             Tim Hortons       43.725517   \n\n   Venue Longitude               Category ID         Venue Category  \n0       -79.332140  4bf58dd8d48988d163941735                   Park  \n1       -79.333114  4bf58dd8d48988d1f9941735      Food & Drink Shop  \n2       -79.315635  4bf58dd8d48988d185941735           Hockey Arena  \n3       -79.312785  4def73e84765ae376e57713a  Portuguese Restaurant  \n4       -79.313103  4bf58dd8d48988d1e0931735            Coffee Shop  ",
                        "text/html": "<div>\n<style scoped>\n    .dataframe tbody tr th:only-of-type {\n        vertical-align: middle;\n    }\n\n    .dataframe tbody tr th {\n        vertical-align: top;\n    }\n\n    .dataframe thead th {\n        text-align: right;\n    }\n</style>\n<table border=\"1\" class=\"dataframe\">\n  <thead>\n    <tr style=\"text-align: right;\">\n      <th></th>\n      <th>Neighborhood</th>\n      <th>Neighborhood Latitude</th>\n      <th>Neighborhood Longitude</th>\n      <th>Venue ID</th>\n      <th>Venue</th>\n      <th>Venue Latitude</th>\n      <th>Venue Longitude</th>\n      <th>Category ID</th>\n      <th>Venue Category</th>\n    </tr>\n  </thead>\n  <tbody>\n    <tr>\n      <th>0</th>\n      <td>Parkwoods</td>\n      <td>43.753259</td>\n      <td>-79.329656</td>\n      <td>4e8d9dcdd5fbbbb6b3003c7b</td>\n      <td>Brookbanks Park</td>\n      <td>43.751976</td>\n      <td>-79.332140</td>\n      <td>4bf58dd8d48988d163941735</td>\n      <td>Park</td>\n    </tr>\n    <tr>\n      <th>1</th>\n      <td>Parkwoods</td>\n      <td>43.753259</td>\n      <td>-79.329656</td>\n      <td>4cb11e2075ebb60cd1c4caad</td>\n      <td>Variety Store</td>\n      <td>43.751974</td>\n      <td>-79.333114</td>\n      <td>4bf58dd8d48988d1f9941735</td>\n      <td>Food &amp; Drink Shop</td>\n    </tr>\n    <tr>\n      <th>2</th>\n      <td>Victoria Village</td>\n      <td>43.725882</td>\n      <td>-79.315572</td>\n      <td>4c633acb86b6be9a61268e34</td>\n      <td>Victoria Village Arena</td>\n      <td>43.723481</td>\n      <td>-79.315635</td>\n      <td>4bf58dd8d48988d185941735</td>\n      <td>Hockey Arena</td>\n    </tr>\n    <tr>\n      <th>3</th>\n      <td>Victoria Village</td>\n      <td>43.725882</td>\n      <td>-79.315572</td>\n      <td>4f3ecce6e4b0587016b6f30d</td>\n      <td>Portugril</td>\n      <td>43.725819</td>\n      <td>-79.312785</td>\n      <td>4def73e84765ae376e57713a</td>\n      <td>Portuguese Restaurant</td>\n    </tr>\n    <tr>\n      <th>4</th>\n      <td>Victoria Village</td>\n      <td>43.725882</td>\n      <td>-79.315572</td>\n      <td>4bbe904a85fbb713420d7167</td>\n      <td>Tim Hortons</td>\n      <td>43.725517</td>\n      <td>-79.313103</td>\n      <td>4bf58dd8d48988d1e0931735</td>\n      <td>Coffee Shop</td>\n    </tr>\n  </tbody>\n</table>\n</div>"
                    },
                    "metadata": {}
                }
            ]
        },
        {
            "metadata": {},
            "cell_type": "code",
            "source": "toronto_venues.shape",
            "execution_count": 10,
            "outputs": [
                {
                    "output_type": "execute_result",
                    "execution_count": 10,
                    "data": {
                        "text/plain": "(2127, 9)"
                    },
                    "metadata": {}
                }
            ]
        },
        {
            "metadata": {},
            "cell_type": "markdown",
            "source": "## Data preprocessing"
        },
        {
            "metadata": {},
            "cell_type": "code",
            "source": "venues_by_category=toronto_venues.groupby(['Neighborhood','Category ID','Venue Category']).count().sort_values(by='Neighborhood').reset_index()\nvenues_by_category.rename(columns={'Venue ID':'Frequency'}, inplace=True)",
            "execution_count": 11,
            "outputs": []
        },
        {
            "metadata": {},
            "cell_type": "code",
            "source": "inputNeigh=venues_by_category[venues_by_category['Neighborhood']=='Willowdale, Willowdale East']\ninputNeigh.drop(columns=['Neighborhood','Neighborhood Latitude','Neighborhood Longitude','Venue','Venue Latitude','Venue Longitude'],inplace=True)\ninputNeigh",
            "execution_count": 12,
            "outputs": [
                {
                    "output_type": "stream",
                    "text": "/opt/conda/envs/Python-3.7-main/lib/python3.7/site-packages/pandas/core/frame.py:3997: SettingWithCopyWarning: \nA value is trying to be set on a copy of a slice from a DataFrame\n\nSee the caveats in the documentation: https://pandas.pydata.org/pandas-docs/stable/user_guide/indexing.html#returning-a-view-versus-a-copy\n  errors=errors,\n",
                    "name": "stderr"
                },
                {
                    "output_type": "execute_result",
                    "execution_count": 12,
                    "data": {
                        "text/plain": "                   Category ID             Venue Category  Frequency\n1468  52e81612bcbc57f1066b7a0c            Bubble Tea Shop          1\n1469  52dea92d3cf9994f4e043dbb             Discount Store          1\n1470  4bf58dd8d48988d1fd941735              Shopping Mall          1\n1471  4bf58dd8d48988d1fa931735                      Hotel          1\n1472  4bf58dd8d48988d1e0931735                Coffee Shop          2\n1473  4bf58dd8d48988d1d2941735           Sushi Restaurant          2\n1474  4bf58dd8d48988d1cc941735                 Steakhouse          1\n1475  4bf58dd8d48988d1ca941735                Pizza Place          2\n1476  4bf58dd8d48988d1c9941735             Ice Cream Shop          1\n1477  4bf58dd8d48988d1c5941735             Sandwich Place          2\n1478  55a59bace4b013909087cb24           Ramen Restaurant          3\n1479  4bf58dd8d48988d186941735               Liquor Store          1\n1480  4bf58dd8d48988d17f941735              Movie Theater          1\n1481  4bf58dd8d48988d1c4941735                 Restaurant          2\n1482  4bf58dd8d48988d16d941735                       Caf\u00e9          2\n1483  4bf58dd8d48988d164941735                      Plaza          1\n1484  4bf58dd8d48988d14a941735      Vietnamese Restaurant          1\n1485  4bf58dd8d48988d127951735        Arts & Crafts Store          1\n1486  4bf58dd8d48988d122951735          Electronics Store          1\n1487  4bf58dd8d48988d121941735                     Lounge          1\n1488  4bf58dd8d48988d118951735              Grocery Store          1\n1489  4bf58dd8d48988d115941735  Middle Eastern Restaurant          1\n1490  4bf58dd8d48988d112941735                  Juice Bar          1\n1491  4bf58dd8d48988d111941735        Japanese Restaurant          1\n1492  4bf58dd8d48988d10a951735                       Bank          1\n1493  4bf58dd8d48988d100951735                  Pet Store          1\n1494  4bf58dd8d48988d16e941735       Fast Food Restaurant          1",
                        "text/html": "<div>\n<style scoped>\n    .dataframe tbody tr th:only-of-type {\n        vertical-align: middle;\n    }\n\n    .dataframe tbody tr th {\n        vertical-align: top;\n    }\n\n    .dataframe thead th {\n        text-align: right;\n    }\n</style>\n<table border=\"1\" class=\"dataframe\">\n  <thead>\n    <tr style=\"text-align: right;\">\n      <th></th>\n      <th>Category ID</th>\n      <th>Venue Category</th>\n      <th>Frequency</th>\n    </tr>\n  </thead>\n  <tbody>\n    <tr>\n      <th>1468</th>\n      <td>52e81612bcbc57f1066b7a0c</td>\n      <td>Bubble Tea Shop</td>\n      <td>1</td>\n    </tr>\n    <tr>\n      <th>1469</th>\n      <td>52dea92d3cf9994f4e043dbb</td>\n      <td>Discount Store</td>\n      <td>1</td>\n    </tr>\n    <tr>\n      <th>1470</th>\n      <td>4bf58dd8d48988d1fd941735</td>\n      <td>Shopping Mall</td>\n      <td>1</td>\n    </tr>\n    <tr>\n      <th>1471</th>\n      <td>4bf58dd8d48988d1fa931735</td>\n      <td>Hotel</td>\n      <td>1</td>\n    </tr>\n    <tr>\n      <th>1472</th>\n      <td>4bf58dd8d48988d1e0931735</td>\n      <td>Coffee Shop</td>\n      <td>2</td>\n    </tr>\n    <tr>\n      <th>1473</th>\n      <td>4bf58dd8d48988d1d2941735</td>\n      <td>Sushi Restaurant</td>\n      <td>2</td>\n    </tr>\n    <tr>\n      <th>1474</th>\n      <td>4bf58dd8d48988d1cc941735</td>\n      <td>Steakhouse</td>\n      <td>1</td>\n    </tr>\n    <tr>\n      <th>1475</th>\n      <td>4bf58dd8d48988d1ca941735</td>\n      <td>Pizza Place</td>\n      <td>2</td>\n    </tr>\n    <tr>\n      <th>1476</th>\n      <td>4bf58dd8d48988d1c9941735</td>\n      <td>Ice Cream Shop</td>\n      <td>1</td>\n    </tr>\n    <tr>\n      <th>1477</th>\n      <td>4bf58dd8d48988d1c5941735</td>\n      <td>Sandwich Place</td>\n      <td>2</td>\n    </tr>\n    <tr>\n      <th>1478</th>\n      <td>55a59bace4b013909087cb24</td>\n      <td>Ramen Restaurant</td>\n      <td>3</td>\n    </tr>\n    <tr>\n      <th>1479</th>\n      <td>4bf58dd8d48988d186941735</td>\n      <td>Liquor Store</td>\n      <td>1</td>\n    </tr>\n    <tr>\n      <th>1480</th>\n      <td>4bf58dd8d48988d17f941735</td>\n      <td>Movie Theater</td>\n      <td>1</td>\n    </tr>\n    <tr>\n      <th>1481</th>\n      <td>4bf58dd8d48988d1c4941735</td>\n      <td>Restaurant</td>\n      <td>2</td>\n    </tr>\n    <tr>\n      <th>1482</th>\n      <td>4bf58dd8d48988d16d941735</td>\n      <td>Caf\u00e9</td>\n      <td>2</td>\n    </tr>\n    <tr>\n      <th>1483</th>\n      <td>4bf58dd8d48988d164941735</td>\n      <td>Plaza</td>\n      <td>1</td>\n    </tr>\n    <tr>\n      <th>1484</th>\n      <td>4bf58dd8d48988d14a941735</td>\n      <td>Vietnamese Restaurant</td>\n      <td>1</td>\n    </tr>\n    <tr>\n      <th>1485</th>\n      <td>4bf58dd8d48988d127951735</td>\n      <td>Arts &amp; Crafts Store</td>\n      <td>1</td>\n    </tr>\n    <tr>\n      <th>1486</th>\n      <td>4bf58dd8d48988d122951735</td>\n      <td>Electronics Store</td>\n      <td>1</td>\n    </tr>\n    <tr>\n      <th>1487</th>\n      <td>4bf58dd8d48988d121941735</td>\n      <td>Lounge</td>\n      <td>1</td>\n    </tr>\n    <tr>\n      <th>1488</th>\n      <td>4bf58dd8d48988d118951735</td>\n      <td>Grocery Store</td>\n      <td>1</td>\n    </tr>\n    <tr>\n      <th>1489</th>\n      <td>4bf58dd8d48988d115941735</td>\n      <td>Middle Eastern Restaurant</td>\n      <td>1</td>\n    </tr>\n    <tr>\n      <th>1490</th>\n      <td>4bf58dd8d48988d112941735</td>\n      <td>Juice Bar</td>\n      <td>1</td>\n    </tr>\n    <tr>\n      <th>1491</th>\n      <td>4bf58dd8d48988d111941735</td>\n      <td>Japanese Restaurant</td>\n      <td>1</td>\n    </tr>\n    <tr>\n      <th>1492</th>\n      <td>4bf58dd8d48988d10a951735</td>\n      <td>Bank</td>\n      <td>1</td>\n    </tr>\n    <tr>\n      <th>1493</th>\n      <td>4bf58dd8d48988d100951735</td>\n      <td>Pet Store</td>\n      <td>1</td>\n    </tr>\n    <tr>\n      <th>1494</th>\n      <td>4bf58dd8d48988d16e941735</td>\n      <td>Fast Food Restaurant</td>\n      <td>1</td>\n    </tr>\n  </tbody>\n</table>\n</div>"
                    },
                    "metadata": {}
                }
            ]
        },
        {
            "metadata": {},
            "cell_type": "code",
            "source": "venueSubset = venues_by_category[venues_by_category['Category ID'].isin(inputNeigh['Category ID'].tolist())]\nvenueSubset.drop(columns=['Neighborhood Latitude','Neighborhood Longitude','Venue','Venue Latitude','Venue Longitude'],inplace=True)\nvenueSubset.head()",
            "execution_count": 13,
            "outputs": [
                {
                    "output_type": "stream",
                    "text": "/opt/conda/envs/Python-3.7-main/lib/python3.7/site-packages/pandas/core/frame.py:3997: SettingWithCopyWarning: \nA value is trying to be set on a copy of a slice from a DataFrame\n\nSee the caveats in the documentation: https://pandas.pydata.org/pandas-docs/stable/user_guide/indexing.html#returning-a-view-versus-a-copy\n  errors=errors,\n",
                    "name": "stderr"
                },
                {
                    "output_type": "execute_result",
                    "execution_count": 13,
                    "data": {
                        "text/plain": "                                       Neighborhood               Category ID  \\\n0                                         Agincourt  4bf58dd8d48988d121941735   \n4                            Alderwood, Long Branch  4bf58dd8d48988d1ca941735   \n5                            Alderwood, Long Branch  4bf58dd8d48988d1c5941735   \n7                            Alderwood, Long Branch  4bf58dd8d48988d1e0931735   \n11  Bathurst Manor, Wilson Heights, Downsview North  4bf58dd8d48988d1ca941735   \n\n    Venue Category  Frequency  \n0           Lounge          1  \n4      Pizza Place          2  \n5   Sandwich Place          1  \n7      Coffee Shop          1  \n11     Pizza Place          1  ",
                        "text/html": "<div>\n<style scoped>\n    .dataframe tbody tr th:only-of-type {\n        vertical-align: middle;\n    }\n\n    .dataframe tbody tr th {\n        vertical-align: top;\n    }\n\n    .dataframe thead th {\n        text-align: right;\n    }\n</style>\n<table border=\"1\" class=\"dataframe\">\n  <thead>\n    <tr style=\"text-align: right;\">\n      <th></th>\n      <th>Neighborhood</th>\n      <th>Category ID</th>\n      <th>Venue Category</th>\n      <th>Frequency</th>\n    </tr>\n  </thead>\n  <tbody>\n    <tr>\n      <th>0</th>\n      <td>Agincourt</td>\n      <td>4bf58dd8d48988d121941735</td>\n      <td>Lounge</td>\n      <td>1</td>\n    </tr>\n    <tr>\n      <th>4</th>\n      <td>Alderwood, Long Branch</td>\n      <td>4bf58dd8d48988d1ca941735</td>\n      <td>Pizza Place</td>\n      <td>2</td>\n    </tr>\n    <tr>\n      <th>5</th>\n      <td>Alderwood, Long Branch</td>\n      <td>4bf58dd8d48988d1c5941735</td>\n      <td>Sandwich Place</td>\n      <td>1</td>\n    </tr>\n    <tr>\n      <th>7</th>\n      <td>Alderwood, Long Branch</td>\n      <td>4bf58dd8d48988d1e0931735</td>\n      <td>Coffee Shop</td>\n      <td>1</td>\n    </tr>\n    <tr>\n      <th>11</th>\n      <td>Bathurst Manor, Wilson Heights, Downsview North</td>\n      <td>4bf58dd8d48988d1ca941735</td>\n      <td>Pizza Place</td>\n      <td>1</td>\n    </tr>\n  </tbody>\n</table>\n</div>"
                    },
                    "metadata": {}
                }
            ]
        },
        {
            "metadata": {},
            "cell_type": "code",
            "source": "venueSubset.shape",
            "execution_count": 14,
            "outputs": [
                {
                    "output_type": "execute_result",
                    "execution_count": 14,
                    "data": {
                        "text/plain": "(449, 4)"
                    },
                    "metadata": {}
                }
            ]
        },
        {
            "metadata": {},
            "cell_type": "code",
            "source": "venueSubset.drop(venueSubset[venueSubset['Neighborhood']=='Willowdale, Willowdale East'].index, inplace=True)\nvenueSubsetGroup = venueSubset.groupby(['Neighborhood'])",
            "execution_count": 15,
            "outputs": [
                {
                    "output_type": "stream",
                    "text": "/opt/conda/envs/Python-3.7-main/lib/python3.7/site-packages/pandas/core/frame.py:3997: SettingWithCopyWarning: \nA value is trying to be set on a copy of a slice from a DataFrame\n\nSee the caveats in the documentation: https://pandas.pydata.org/pandas-docs/stable/user_guide/indexing.html#returning-a-view-versus-a-copy\n  errors=errors,\n",
                    "name": "stderr"
                }
            ]
        },
        {
            "metadata": {},
            "cell_type": "code",
            "source": "venueSubsetGroup.head()",
            "execution_count": 16,
            "outputs": [
                {
                    "output_type": "execute_result",
                    "execution_count": 16,
                    "data": {
                        "text/plain": "                                         Neighborhood  \\\n0                                           Agincourt   \n4                              Alderwood, Long Branch   \n5                              Alderwood, Long Branch   \n7                              Alderwood, Long Branch   \n11    Bathurst Manor, Wilson Heights, Downsview North   \n...                                               ...   \n1465                                Wexford, Maryvale   \n1496                      Willowdale, Willowdale West   \n1497                      Willowdale, Willowdale West   \n1499                      Willowdale, Willowdale West   \n1500                                           Woburn   \n\n                   Category ID  Venue Category  Frequency  \n0     4bf58dd8d48988d121941735          Lounge          1  \n4     4bf58dd8d48988d1ca941735     Pizza Place          2  \n5     4bf58dd8d48988d1c5941735  Sandwich Place          1  \n7     4bf58dd8d48988d1e0931735     Coffee Shop          1  \n11    4bf58dd8d48988d1ca941735     Pizza Place          1  \n...                        ...             ...        ...  \n1465  4bf58dd8d48988d1fd941735   Shopping Mall          1  \n1496  4bf58dd8d48988d1e0931735     Coffee Shop          1  \n1497  4bf58dd8d48988d1ca941735     Pizza Place          1  \n1499  4bf58dd8d48988d118951735   Grocery Store          1  \n1500  4bf58dd8d48988d1e0931735     Coffee Shop          2  \n\n[272 rows x 4 columns]",
                        "text/html": "<div>\n<style scoped>\n    .dataframe tbody tr th:only-of-type {\n        vertical-align: middle;\n    }\n\n    .dataframe tbody tr th {\n        vertical-align: top;\n    }\n\n    .dataframe thead th {\n        text-align: right;\n    }\n</style>\n<table border=\"1\" class=\"dataframe\">\n  <thead>\n    <tr style=\"text-align: right;\">\n      <th></th>\n      <th>Neighborhood</th>\n      <th>Category ID</th>\n      <th>Venue Category</th>\n      <th>Frequency</th>\n    </tr>\n  </thead>\n  <tbody>\n    <tr>\n      <th>0</th>\n      <td>Agincourt</td>\n      <td>4bf58dd8d48988d121941735</td>\n      <td>Lounge</td>\n      <td>1</td>\n    </tr>\n    <tr>\n      <th>4</th>\n      <td>Alderwood, Long Branch</td>\n      <td>4bf58dd8d48988d1ca941735</td>\n      <td>Pizza Place</td>\n      <td>2</td>\n    </tr>\n    <tr>\n      <th>5</th>\n      <td>Alderwood, Long Branch</td>\n      <td>4bf58dd8d48988d1c5941735</td>\n      <td>Sandwich Place</td>\n      <td>1</td>\n    </tr>\n    <tr>\n      <th>7</th>\n      <td>Alderwood, Long Branch</td>\n      <td>4bf58dd8d48988d1e0931735</td>\n      <td>Coffee Shop</td>\n      <td>1</td>\n    </tr>\n    <tr>\n      <th>11</th>\n      <td>Bathurst Manor, Wilson Heights, Downsview North</td>\n      <td>4bf58dd8d48988d1ca941735</td>\n      <td>Pizza Place</td>\n      <td>1</td>\n    </tr>\n    <tr>\n      <th>...</th>\n      <td>...</td>\n      <td>...</td>\n      <td>...</td>\n      <td>...</td>\n    </tr>\n    <tr>\n      <th>1465</th>\n      <td>Wexford, Maryvale</td>\n      <td>4bf58dd8d48988d1fd941735</td>\n      <td>Shopping Mall</td>\n      <td>1</td>\n    </tr>\n    <tr>\n      <th>1496</th>\n      <td>Willowdale, Willowdale West</td>\n      <td>4bf58dd8d48988d1e0931735</td>\n      <td>Coffee Shop</td>\n      <td>1</td>\n    </tr>\n    <tr>\n      <th>1497</th>\n      <td>Willowdale, Willowdale West</td>\n      <td>4bf58dd8d48988d1ca941735</td>\n      <td>Pizza Place</td>\n      <td>1</td>\n    </tr>\n    <tr>\n      <th>1499</th>\n      <td>Willowdale, Willowdale West</td>\n      <td>4bf58dd8d48988d118951735</td>\n      <td>Grocery Store</td>\n      <td>1</td>\n    </tr>\n    <tr>\n      <th>1500</th>\n      <td>Woburn</td>\n      <td>4bf58dd8d48988d1e0931735</td>\n      <td>Coffee Shop</td>\n      <td>2</td>\n    </tr>\n  </tbody>\n</table>\n<p>272 rows \u00d7 4 columns</p>\n</div>"
                    },
                    "metadata": {}
                }
            ]
        },
        {
            "metadata": {},
            "cell_type": "markdown",
            "source": "## Similarity of Neighborhoods to Willowdale East"
        },
        {
            "metadata": {},
            "cell_type": "code",
            "source": "#Store the Pearson Correlation in a dictionary, where the key is the user Id and the value is the coefficient\npearsonCorrelationDict = {}\n\n#For every user group in our subset\nfor name, group in venueSubsetGroup:\n    #Let's start by sorting the input and current neighborhood group so the values aren't mixed up later on\n    group = group.sort_values(by='Category ID')\n    inputNeigh = inputNeigh.sort_values(by='Category ID')\n    #Get the N for the formula\n    nRatings = len(group)\n    #Get the review scores for the categories that they both have in common\n    temp_df = inputNeigh[inputNeigh['Category ID'].isin(group['Category ID'].tolist())]\n    #And then store them in a temporary buffer variable in a list format to facilitate future calculations\n    tempRatingList = temp_df['Frequency'].tolist()\n    #Let's also put the current user group reviews in a list format\n    tempGroupList = group['Frequency'].tolist()\n    #Now let's calculate the pearson correlation between two users, so called, x and y\n    Sxx = sum([i**2 for i in tempRatingList]) - pow(sum(tempRatingList),2)/float(nRatings)\n    Syy = sum([i**2 for i in tempGroupList]) - pow(sum(tempGroupList),2)/float(nRatings)\n    Sxy = sum( i*j for i, j in zip(tempRatingList, tempGroupList)) - sum(tempRatingList)*sum(tempGroupList)/float(nRatings)\n    \n    #If the denominator is different than zero, then divide, else, 0 correlation.\n    if Sxx != 0 and Syy != 0:\n        pearsonCorrelationDict[name] = Sxy/sqrt(Sxx*Syy)\n    else:\n        pearsonCorrelationDict[name] = 0",
            "execution_count": 17,
            "outputs": []
        },
        {
            "metadata": {},
            "cell_type": "code",
            "source": "pearsonCorrelationDict.items()",
            "execution_count": 18,
            "outputs": [
                {
                    "output_type": "execute_result",
                    "execution_count": 18,
                    "data": {
                        "text/plain": "dict_items([('Agincourt', 0), ('Alderwood, Long Branch', 0), ('Bathurst Manor, Wilson Heights, Downsview North', -0.05976143046671949), ('Bayview Village', 0), ('Bedford Park, Lawrence Manor East', 0.3779644730092279), ('Berczy Park', 0.5196746370519365), ('Birch Cliff, Cliffside West', 0), ('Brockton, Parkdale Village, Exhibition Place', 0.6123724356957944), ('Business reply mail Processing Centre, South Central Letter Processing Plant Toronto', 0), ('CN Tower, King and Spadina, Railway Lands, Harbourfront West, Bathurst Quay, South Niagara, Island airport', 0), ('Canada Post Gateway Processing Centre', 0.30151134457776363), ('Cedarbrae', 0), ('Central Bay Street', 0.2828460777067467), ('Christie', -0.7777777777777778), ('Church and Wellesley', 0.1614116742309718), (\"Clarks Corners, Tam O'Shanter, Sullivan\", 0.49999999999999967), ('Commerce Court, Victoria Hotel', 0.4528907231300196), ('Davisville', 0.5400617248673215), ('Davisville North', 0), ('Del Ray, Mount Dennis, Keelsdale and Silverthorn', 0), ('Don Mills', 0.49999999999999967), ('Dorset Park, Wexford Heights, Scarborough Town Centre', 0), ('Downsview', 0), ('Dufferin, Dovercourt Village', 0), ('East Toronto, Broadview North (Old East York)', 0), ('Eringate, Bloordale Gardens, Old Burnhamthorpe, Markland Wood', 0), ('Fairview, Henry Farm, Oriole', 0.42460388780422315), ('First Canadian Place, Underground city', 0.3699217555959069), ('Forest Hill North & West, Forest Hill Road Park', 0), ('Garden District, Ryerson', 0.27231762979212554), ('Glencairn', 0.49999999999999967), ('Golden Mile, Clairlea, Oakridge', 0), ('Guildwood, Morningside, West Hill', 0), ('Harbourfront East, Union Station, Toronto Islands', 0.43482433410014465), ('High Park, The Junction South', 1.0), ('Hillcrest Village', 0), ('Humber Summit', 0), ('India Bazaar, The Beaches West', 0.04303314829119306), ('Kennedy Park, Ionview, East Birchmount Park', 0), ('Kensington Market, Chinatown, Grange Park', 0.5229577884350216), ('Kingsview Village, St. Phillips, Martin Grove Gardens, Richview Gardens', 0), ('Lawrence Manor, Lawrence Heights', 0), ('Leaside', 0.3118047822311616), ('Little Portugal, Trinity', 0.5), ('Malvern, Rouge', 0), ('Mimico NW, The Queensway West, South of Bloor, Kingsway Park South West, Royal York South West', 0), ('New Toronto, Mimico South, Humber Bay Shores', 0), ('North Toronto West, Lawrence Park', 0.4082482904638635), ('Northwood Park, York University', 0), ('Parkdale, Roncesvalles', 0), ('Parkview Hill, Woodbine Gardens', 0.49999999999999967), (\"Queen's Park, Ontario Provincial Government\", 0.3140543535541286), ('Regent Park, Harbourfront', 0.5819143739626464), ('Richmond, Adelaide, King', 0.6206209315527176), ('Runnymede, Swansea', 0.4409585518440983), ('Runnymede, The Junction, Weston-Pellam Park, Carlton Village', 0), ('South Steeles, Silverstone, Humbergate, Jamestown, Mount Olive, Beaumond Heights, Thistletown, Albion Gardens', 0.0), ('St. James Town', 0.8268741925060656), ('St. James Town, Cabbagetown', 0.7453559924999299), (\"Steeles West, L'Amoreaux West\", -0.4082482904638635), ('Stn A PO Boxes', 0.443053378608375), ('Studio District', 0.9258200997725512), ('Summerhill West, Rathnelly, South Hill, Forest Hill SE, Deer Park', 0.29277002188455997), ('The Annex, North Midtown, Yorkville', 0.6565321642986136), ('The Danforth West, Riverdale', 0.44280744277004774), ('Thorncliffe Park', 0), ('Toronto Dominion Centre, Design Exchange', 0.47587338594636164), ('University of Toronto, Harbord', 0.09784921095801605), ('Victoria Village', 0), ('Westmount', 0.4082482904638635), ('Wexford, Maryvale', -0.3333333333333333), ('Willowdale, Willowdale West', 0), ('Woburn', 0)])"
                    },
                    "metadata": {}
                }
            ]
        },
        {
            "metadata": {},
            "cell_type": "code",
            "source": "pearsonDF = pd.DataFrame.from_dict(pearsonCorrelationDict, orient='index')\npearsonDF.columns = ['similarityIndex']\npearsonDF['Neighborhood'] = pearsonDF.index\npearsonDF.index = range(len(pearsonDF))\npearsonDF.head()",
            "execution_count": 19,
            "outputs": [
                {
                    "output_type": "execute_result",
                    "execution_count": 19,
                    "data": {
                        "text/plain": "   similarityIndex                                     Neighborhood\n0         0.000000                                        Agincourt\n1         0.000000                           Alderwood, Long Branch\n2        -0.059761  Bathurst Manor, Wilson Heights, Downsview North\n3         0.000000                                  Bayview Village\n4         0.377964                Bedford Park, Lawrence Manor East",
                        "text/html": "<div>\n<style scoped>\n    .dataframe tbody tr th:only-of-type {\n        vertical-align: middle;\n    }\n\n    .dataframe tbody tr th {\n        vertical-align: top;\n    }\n\n    .dataframe thead th {\n        text-align: right;\n    }\n</style>\n<table border=\"1\" class=\"dataframe\">\n  <thead>\n    <tr style=\"text-align: right;\">\n      <th></th>\n      <th>similarityIndex</th>\n      <th>Neighborhood</th>\n    </tr>\n  </thead>\n  <tbody>\n    <tr>\n      <th>0</th>\n      <td>0.000000</td>\n      <td>Agincourt</td>\n    </tr>\n    <tr>\n      <th>1</th>\n      <td>0.000000</td>\n      <td>Alderwood, Long Branch</td>\n    </tr>\n    <tr>\n      <th>2</th>\n      <td>-0.059761</td>\n      <td>Bathurst Manor, Wilson Heights, Downsview North</td>\n    </tr>\n    <tr>\n      <th>3</th>\n      <td>0.000000</td>\n      <td>Bayview Village</td>\n    </tr>\n    <tr>\n      <th>4</th>\n      <td>0.377964</td>\n      <td>Bedford Park, Lawrence Manor East</td>\n    </tr>\n  </tbody>\n</table>\n</div>"
                    },
                    "metadata": {}
                }
            ]
        },
        {
            "metadata": {},
            "cell_type": "code",
            "source": "pearsonDF.shape",
            "execution_count": 20,
            "outputs": [
                {
                    "output_type": "execute_result",
                    "execution_count": 20,
                    "data": {
                        "text/plain": "(73, 2)"
                    },
                    "metadata": {}
                }
            ]
        },
        {
            "metadata": {},
            "cell_type": "markdown",
            "source": "### Most similar neighborhoods"
        },
        {
            "metadata": {},
            "cell_type": "code",
            "source": "#Top 20 similar neighborhoods\ntopNeigh=pearsonDF.sort_values(by='similarityIndex', ascending=False)[0:20]\ntopNeigh",
            "execution_count": 21,
            "outputs": [
                {
                    "output_type": "execute_result",
                    "execution_count": 21,
                    "data": {
                        "text/plain": "    similarityIndex                                  Neighborhood\n34         1.000000                 High Park, The Junction South\n61         0.925820                               Studio District\n57         0.826874                                St. James Town\n58         0.745356                   St. James Town, Cabbagetown\n63         0.656532           The Annex, North Midtown, Yorkville\n53         0.620621                      Richmond, Adelaide, King\n7          0.612372  Brockton, Parkdale Village, Exhibition Place\n52         0.581914                     Regent Park, Harbourfront\n17         0.540062                                    Davisville\n39         0.522958     Kensington Market, Chinatown, Grange Park\n5          0.519675                                   Berczy Park\n43         0.500000                      Little Portugal, Trinity\n20         0.500000                                     Don Mills\n15         0.500000       Clarks Corners, Tam O'Shanter, Sullivan\n30         0.500000                                     Glencairn\n50         0.500000               Parkview Hill, Woodbine Gardens\n66         0.475873      Toronto Dominion Centre, Design Exchange\n16         0.452891                Commerce Court, Victoria Hotel\n60         0.443053                                Stn A PO Boxes\n64         0.442807                  The Danforth West, Riverdale",
                        "text/html": "<div>\n<style scoped>\n    .dataframe tbody tr th:only-of-type {\n        vertical-align: middle;\n    }\n\n    .dataframe tbody tr th {\n        vertical-align: top;\n    }\n\n    .dataframe thead th {\n        text-align: right;\n    }\n</style>\n<table border=\"1\" class=\"dataframe\">\n  <thead>\n    <tr style=\"text-align: right;\">\n      <th></th>\n      <th>similarityIndex</th>\n      <th>Neighborhood</th>\n    </tr>\n  </thead>\n  <tbody>\n    <tr>\n      <th>34</th>\n      <td>1.000000</td>\n      <td>High Park, The Junction South</td>\n    </tr>\n    <tr>\n      <th>61</th>\n      <td>0.925820</td>\n      <td>Studio District</td>\n    </tr>\n    <tr>\n      <th>57</th>\n      <td>0.826874</td>\n      <td>St. James Town</td>\n    </tr>\n    <tr>\n      <th>58</th>\n      <td>0.745356</td>\n      <td>St. James Town, Cabbagetown</td>\n    </tr>\n    <tr>\n      <th>63</th>\n      <td>0.656532</td>\n      <td>The Annex, North Midtown, Yorkville</td>\n    </tr>\n    <tr>\n      <th>53</th>\n      <td>0.620621</td>\n      <td>Richmond, Adelaide, King</td>\n    </tr>\n    <tr>\n      <th>7</th>\n      <td>0.612372</td>\n      <td>Brockton, Parkdale Village, Exhibition Place</td>\n    </tr>\n    <tr>\n      <th>52</th>\n      <td>0.581914</td>\n      <td>Regent Park, Harbourfront</td>\n    </tr>\n    <tr>\n      <th>17</th>\n      <td>0.540062</td>\n      <td>Davisville</td>\n    </tr>\n    <tr>\n      <th>39</th>\n      <td>0.522958</td>\n      <td>Kensington Market, Chinatown, Grange Park</td>\n    </tr>\n    <tr>\n      <th>5</th>\n      <td>0.519675</td>\n      <td>Berczy Park</td>\n    </tr>\n    <tr>\n      <th>43</th>\n      <td>0.500000</td>\n      <td>Little Portugal, Trinity</td>\n    </tr>\n    <tr>\n      <th>20</th>\n      <td>0.500000</td>\n      <td>Don Mills</td>\n    </tr>\n    <tr>\n      <th>15</th>\n      <td>0.500000</td>\n      <td>Clarks Corners, Tam O'Shanter, Sullivan</td>\n    </tr>\n    <tr>\n      <th>30</th>\n      <td>0.500000</td>\n      <td>Glencairn</td>\n    </tr>\n    <tr>\n      <th>50</th>\n      <td>0.500000</td>\n      <td>Parkview Hill, Woodbine Gardens</td>\n    </tr>\n    <tr>\n      <th>66</th>\n      <td>0.475873</td>\n      <td>Toronto Dominion Centre, Design Exchange</td>\n    </tr>\n    <tr>\n      <th>16</th>\n      <td>0.452891</td>\n      <td>Commerce Court, Victoria Hotel</td>\n    </tr>\n    <tr>\n      <th>60</th>\n      <td>0.443053</td>\n      <td>Stn A PO Boxes</td>\n    </tr>\n    <tr>\n      <th>64</th>\n      <td>0.442807</td>\n      <td>The Danforth West, Riverdale</td>\n    </tr>\n  </tbody>\n</table>\n</div>"
                    },
                    "metadata": {}
                }
            ]
        },
        {
            "metadata": {},
            "cell_type": "code",
            "source": "topNeighFreq=topNeigh.merge(venues_by_category, left_on='Neighborhood', right_on='Neighborhood', how='inner')\ntopNeighFreq.head()",
            "execution_count": 22,
            "outputs": [
                {
                    "output_type": "execute_result",
                    "execution_count": 22,
                    "data": {
                        "text/plain": "   similarityIndex                   Neighborhood               Category ID  \\\n0              1.0  High Park, The Junction South  52dea92d3cf9994f4e043dbb   \n1              1.0  High Park, The Junction South  4bf58dd8d48988d16e941735   \n2              1.0  High Park, The Junction South  4d4ae6fc7a7b7dea34424761   \n3              1.0  High Park, The Junction South  4bf58dd8d48988d1f8941735   \n4              1.0  High Park, The Junction South  4bf58dd8d48988d1f7941735   \n\n           Venue Category  Neighborhood Latitude  Neighborhood Longitude  \\\n0          Discount Store                      1                       1   \n1    Fast Food Restaurant                      1                       1   \n2     Fried Chicken Joint                      1                       1   \n3  Furniture / Home Store                      1                       1   \n4             Flea Market                      1                       1   \n\n   Frequency  Venue  Venue Latitude  Venue Longitude  \n0          1      1               1                1  \n1          1      1               1                1  \n2          1      1               1                1  \n3          1      1               1                1  \n4          1      1               1                1  ",
                        "text/html": "<div>\n<style scoped>\n    .dataframe tbody tr th:only-of-type {\n        vertical-align: middle;\n    }\n\n    .dataframe tbody tr th {\n        vertical-align: top;\n    }\n\n    .dataframe thead th {\n        text-align: right;\n    }\n</style>\n<table border=\"1\" class=\"dataframe\">\n  <thead>\n    <tr style=\"text-align: right;\">\n      <th></th>\n      <th>similarityIndex</th>\n      <th>Neighborhood</th>\n      <th>Category ID</th>\n      <th>Venue Category</th>\n      <th>Neighborhood Latitude</th>\n      <th>Neighborhood Longitude</th>\n      <th>Frequency</th>\n      <th>Venue</th>\n      <th>Venue Latitude</th>\n      <th>Venue Longitude</th>\n    </tr>\n  </thead>\n  <tbody>\n    <tr>\n      <th>0</th>\n      <td>1.0</td>\n      <td>High Park, The Junction South</td>\n      <td>52dea92d3cf9994f4e043dbb</td>\n      <td>Discount Store</td>\n      <td>1</td>\n      <td>1</td>\n      <td>1</td>\n      <td>1</td>\n      <td>1</td>\n      <td>1</td>\n    </tr>\n    <tr>\n      <th>1</th>\n      <td>1.0</td>\n      <td>High Park, The Junction South</td>\n      <td>4bf58dd8d48988d16e941735</td>\n      <td>Fast Food Restaurant</td>\n      <td>1</td>\n      <td>1</td>\n      <td>1</td>\n      <td>1</td>\n      <td>1</td>\n      <td>1</td>\n    </tr>\n    <tr>\n      <th>2</th>\n      <td>1.0</td>\n      <td>High Park, The Junction South</td>\n      <td>4d4ae6fc7a7b7dea34424761</td>\n      <td>Fried Chicken Joint</td>\n      <td>1</td>\n      <td>1</td>\n      <td>1</td>\n      <td>1</td>\n      <td>1</td>\n      <td>1</td>\n    </tr>\n    <tr>\n      <th>3</th>\n      <td>1.0</td>\n      <td>High Park, The Junction South</td>\n      <td>4bf58dd8d48988d1f8941735</td>\n      <td>Furniture / Home Store</td>\n      <td>1</td>\n      <td>1</td>\n      <td>1</td>\n      <td>1</td>\n      <td>1</td>\n      <td>1</td>\n    </tr>\n    <tr>\n      <th>4</th>\n      <td>1.0</td>\n      <td>High Park, The Junction South</td>\n      <td>4bf58dd8d48988d1f7941735</td>\n      <td>Flea Market</td>\n      <td>1</td>\n      <td>1</td>\n      <td>1</td>\n      <td>1</td>\n      <td>1</td>\n      <td>1</td>\n    </tr>\n  </tbody>\n</table>\n</div>"
                    },
                    "metadata": {}
                }
            ]
        },
        {
            "metadata": {},
            "cell_type": "code",
            "source": "topNeighFreq.shape",
            "execution_count": 23,
            "outputs": [
                {
                    "output_type": "execute_result",
                    "execution_count": 23,
                    "data": {
                        "text/plain": "(640, 10)"
                    },
                    "metadata": {}
                }
            ]
        },
        {
            "metadata": {},
            "cell_type": "markdown",
            "source": "### Most common venue categories in the most similar Neighborhoods"
        },
        {
            "metadata": {},
            "cell_type": "code",
            "source": "#Applies a sum to the topNeigh after grouping it up by userId\ntempTopNeighFreq = topNeighFreq.groupby(['Category ID','Venue Category']).sum()[['similarityIndex']]\ntempTopNeighFreq.columns = ['sum_similarityIndex']\ntempTopNeighFreq.sort_values(by='sum_similarityIndex', ascending=False, inplace=True)\ntempTopNeighFreq.head(10)",
            "execution_count": 24,
            "outputs": [
                {
                    "output_type": "execute_result",
                    "execution_count": 24,
                    "data": {
                        "text/plain": "                                              sum_similarityIndex\nCategory ID              Venue Category                          \n4bf58dd8d48988d16d941735 Caf\u00e9                           10.866809\n4bf58dd8d48988d1e0931735 Coffee Shop                     9.366809\n4bf58dd8d48988d16a941735 Bakery                          8.670215\n4bf58dd8d48988d110941735 Italian Restaurant              7.965109\n4bf58dd8d48988d163941735 Park                            7.715135\n4bf58dd8d48988d1c4941735 Restaurant                      7.261499\n4bf58dd8d48988d111941735 Japanese Restaurant             6.647363\n4bf58dd8d48988d149941735 Thai Restaurant                 6.574352\n4bf58dd8d48988d155941735 Gastropub                       5.990489\n4bf58dd8d48988d1ca941735 Pizza Place                     5.981227",
                        "text/html": "<div>\n<style scoped>\n    .dataframe tbody tr th:only-of-type {\n        vertical-align: middle;\n    }\n\n    .dataframe tbody tr th {\n        vertical-align: top;\n    }\n\n    .dataframe thead th {\n        text-align: right;\n    }\n</style>\n<table border=\"1\" class=\"dataframe\">\n  <thead>\n    <tr style=\"text-align: right;\">\n      <th></th>\n      <th></th>\n      <th>sum_similarityIndex</th>\n    </tr>\n    <tr>\n      <th>Category ID</th>\n      <th>Venue Category</th>\n      <th></th>\n    </tr>\n  </thead>\n  <tbody>\n    <tr>\n      <th>4bf58dd8d48988d16d941735</th>\n      <th>Caf\u00e9</th>\n      <td>10.866809</td>\n    </tr>\n    <tr>\n      <th>4bf58dd8d48988d1e0931735</th>\n      <th>Coffee Shop</th>\n      <td>9.366809</td>\n    </tr>\n    <tr>\n      <th>4bf58dd8d48988d16a941735</th>\n      <th>Bakery</th>\n      <td>8.670215</td>\n    </tr>\n    <tr>\n      <th>4bf58dd8d48988d110941735</th>\n      <th>Italian Restaurant</th>\n      <td>7.965109</td>\n    </tr>\n    <tr>\n      <th>4bf58dd8d48988d163941735</th>\n      <th>Park</th>\n      <td>7.715135</td>\n    </tr>\n    <tr>\n      <th>4bf58dd8d48988d1c4941735</th>\n      <th>Restaurant</th>\n      <td>7.261499</td>\n    </tr>\n    <tr>\n      <th>4bf58dd8d48988d111941735</th>\n      <th>Japanese Restaurant</th>\n      <td>6.647363</td>\n    </tr>\n    <tr>\n      <th>4bf58dd8d48988d149941735</th>\n      <th>Thai Restaurant</th>\n      <td>6.574352</td>\n    </tr>\n    <tr>\n      <th>4bf58dd8d48988d155941735</th>\n      <th>Gastropub</th>\n      <td>5.990489</td>\n    </tr>\n    <tr>\n      <th>4bf58dd8d48988d1ca941735</th>\n      <th>Pizza Place</th>\n      <td>5.981227</td>\n    </tr>\n  </tbody>\n</table>\n</div>"
                    },
                    "metadata": {}
                }
            ]
        },
        {
            "metadata": {},
            "cell_type": "code",
            "source": "tempTopNeighFreq.shape",
            "execution_count": 25,
            "outputs": [
                {
                    "output_type": "execute_result",
                    "execution_count": 25,
                    "data": {
                        "text/plain": "(183, 1)"
                    },
                    "metadata": {}
                }
            ]
        },
        {
            "metadata": {},
            "cell_type": "code",
            "source": "tempTopNeighFreq.reset_index(inplace=True)",
            "execution_count": 26,
            "outputs": []
        },
        {
            "metadata": {},
            "cell_type": "code",
            "source": "tempTopNeighFreq.columns",
            "execution_count": 27,
            "outputs": [
                {
                    "output_type": "execute_result",
                    "execution_count": 27,
                    "data": {
                        "text/plain": "Index(['Category ID', 'Venue Category', 'sum_similarityIndex'], dtype='object')"
                    },
                    "metadata": {}
                }
            ]
        },
        {
            "metadata": {},
            "cell_type": "markdown",
            "source": "### Exclude all the venue categories which already exist in Willowdale East"
        },
        {
            "metadata": {},
            "cell_type": "code",
            "source": "#tempTopNeighFreq.reset_index()\ndf_Recommendations=tempTopNeighFreq[-tempTopNeighFreq['Category ID'].isin(inputNeigh['Category ID'].tolist())]",
            "execution_count": 28,
            "outputs": []
        },
        {
            "metadata": {},
            "cell_type": "code",
            "source": "df_Recommendations.shape",
            "execution_count": 29,
            "outputs": [
                {
                    "output_type": "execute_result",
                    "execution_count": 29,
                    "data": {
                        "text/plain": "(157, 3)"
                    },
                    "metadata": {}
                }
            ]
        },
        {
            "metadata": {},
            "cell_type": "code",
            "source": "df_Recommendations.head(20)",
            "execution_count": 30,
            "outputs": [
                {
                    "output_type": "execute_result",
                    "execution_count": 30,
                    "data": {
                        "text/plain": "                 Category ID                 Venue Category  \\\n2   4bf58dd8d48988d16a941735                         Bakery   \n3   4bf58dd8d48988d110941735             Italian Restaurant   \n4   4bf58dd8d48988d163941735                           Park   \n7   4bf58dd8d48988d149941735                Thai Restaurant   \n8   4bf58dd8d48988d155941735                      Gastropub   \n10  4bf58dd8d48988d143941735                 Breakfast Spot   \n11  4bf58dd8d48988d147941735                          Diner   \n12  4bf58dd8d48988d10f951735                       Pharmacy   \n14  4bf58dd8d48988d1e2931735                    Art Gallery   \n15  4bf58dd8d48988d1ce941735             Seafood Restaurant   \n16  4bf58dd8d48988d114951735                      Bookstore   \n17  4bf58dd8d48988d116941735                            Bar   \n18  4bf58dd8d48988d176941735                            Gym   \n19  4bf58dd8d48988d1d3941735  Vegetarian / Vegan Restaurant   \n20  4bf58dd8d48988d11b941735                            Pub   \n21  4bf58dd8d48988d103951735                 Clothing Store   \n22  4bf58dd8d48988d142941735               Asian Restaurant   \n24  4bf58dd8d48988d10c941735              French Restaurant   \n26  4bf58dd8d48988d175941735           Gym / Fitness Center   \n27  4bf58dd8d48988d102941735                    Yoga Studio   \n\n    sum_similarityIndex  \n2              8.670215  \n3              7.965109  \n4              7.715135  \n7              6.574352  \n8              5.990489  \n10             5.556232  \n11             5.500840  \n12             5.230383  \n14             4.920902  \n15             4.804869  \n16             4.712067  \n17             4.657645  \n18             4.471747  \n19             4.361945  \n20             4.318102  \n21             4.311917  \n22             4.032791  \n24             3.800281  \n26             3.557120  \n27             3.505968  ",
                        "text/html": "<div>\n<style scoped>\n    .dataframe tbody tr th:only-of-type {\n        vertical-align: middle;\n    }\n\n    .dataframe tbody tr th {\n        vertical-align: top;\n    }\n\n    .dataframe thead th {\n        text-align: right;\n    }\n</style>\n<table border=\"1\" class=\"dataframe\">\n  <thead>\n    <tr style=\"text-align: right;\">\n      <th></th>\n      <th>Category ID</th>\n      <th>Venue Category</th>\n      <th>sum_similarityIndex</th>\n    </tr>\n  </thead>\n  <tbody>\n    <tr>\n      <th>2</th>\n      <td>4bf58dd8d48988d16a941735</td>\n      <td>Bakery</td>\n      <td>8.670215</td>\n    </tr>\n    <tr>\n      <th>3</th>\n      <td>4bf58dd8d48988d110941735</td>\n      <td>Italian Restaurant</td>\n      <td>7.965109</td>\n    </tr>\n    <tr>\n      <th>4</th>\n      <td>4bf58dd8d48988d163941735</td>\n      <td>Park</td>\n      <td>7.715135</td>\n    </tr>\n    <tr>\n      <th>7</th>\n      <td>4bf58dd8d48988d149941735</td>\n      <td>Thai Restaurant</td>\n      <td>6.574352</td>\n    </tr>\n    <tr>\n      <th>8</th>\n      <td>4bf58dd8d48988d155941735</td>\n      <td>Gastropub</td>\n      <td>5.990489</td>\n    </tr>\n    <tr>\n      <th>10</th>\n      <td>4bf58dd8d48988d143941735</td>\n      <td>Breakfast Spot</td>\n      <td>5.556232</td>\n    </tr>\n    <tr>\n      <th>11</th>\n      <td>4bf58dd8d48988d147941735</td>\n      <td>Diner</td>\n      <td>5.500840</td>\n    </tr>\n    <tr>\n      <th>12</th>\n      <td>4bf58dd8d48988d10f951735</td>\n      <td>Pharmacy</td>\n      <td>5.230383</td>\n    </tr>\n    <tr>\n      <th>14</th>\n      <td>4bf58dd8d48988d1e2931735</td>\n      <td>Art Gallery</td>\n      <td>4.920902</td>\n    </tr>\n    <tr>\n      <th>15</th>\n      <td>4bf58dd8d48988d1ce941735</td>\n      <td>Seafood Restaurant</td>\n      <td>4.804869</td>\n    </tr>\n    <tr>\n      <th>16</th>\n      <td>4bf58dd8d48988d114951735</td>\n      <td>Bookstore</td>\n      <td>4.712067</td>\n    </tr>\n    <tr>\n      <th>17</th>\n      <td>4bf58dd8d48988d116941735</td>\n      <td>Bar</td>\n      <td>4.657645</td>\n    </tr>\n    <tr>\n      <th>18</th>\n      <td>4bf58dd8d48988d176941735</td>\n      <td>Gym</td>\n      <td>4.471747</td>\n    </tr>\n    <tr>\n      <th>19</th>\n      <td>4bf58dd8d48988d1d3941735</td>\n      <td>Vegetarian / Vegan Restaurant</td>\n      <td>4.361945</td>\n    </tr>\n    <tr>\n      <th>20</th>\n      <td>4bf58dd8d48988d11b941735</td>\n      <td>Pub</td>\n      <td>4.318102</td>\n    </tr>\n    <tr>\n      <th>21</th>\n      <td>4bf58dd8d48988d103951735</td>\n      <td>Clothing Store</td>\n      <td>4.311917</td>\n    </tr>\n    <tr>\n      <th>22</th>\n      <td>4bf58dd8d48988d142941735</td>\n      <td>Asian Restaurant</td>\n      <td>4.032791</td>\n    </tr>\n    <tr>\n      <th>24</th>\n      <td>4bf58dd8d48988d10c941735</td>\n      <td>French Restaurant</td>\n      <td>3.800281</td>\n    </tr>\n    <tr>\n      <th>26</th>\n      <td>4bf58dd8d48988d175941735</td>\n      <td>Gym / Fitness Center</td>\n      <td>3.557120</td>\n    </tr>\n    <tr>\n      <th>27</th>\n      <td>4bf58dd8d48988d102941735</td>\n      <td>Yoga Studio</td>\n      <td>3.505968</td>\n    </tr>\n  </tbody>\n</table>\n</div>"
                    },
                    "metadata": {}
                }
            ]
        },
        {
            "metadata": {},
            "cell_type": "markdown",
            "source": "### Exclude the categories from the recommendations, which are already existing in the closest neighborhoods"
        },
        {
            "metadata": {},
            "cell_type": "code",
            "source": "nextNeigh=pd.DataFrame()\nnextNeigh=nextNeigh.append(venues_by_category[venues_by_category['Neighborhood']=='Willowdale, Willowdale West'])\nnextNeigh=nextNeigh.append(venues_by_category[venues_by_category['Neighborhood']=='Willowdale, Newtonbrook'])\nnextNeigh=nextNeigh.append(venues_by_category[venues_by_category['Neighborhood']=='Bayview Village'])\n\nnextNeigh",
            "execution_count": 31,
            "outputs": [
                {
                    "output_type": "execute_result",
                    "execution_count": 31,
                    "data": {
                        "text/plain": "                     Neighborhood               Category ID  \\\n1495  Willowdale, Willowdale West  52f2ab2ebcbc57f1066b8b46   \n1496  Willowdale, Willowdale West  4bf58dd8d48988d1e0931735   \n1497  Willowdale, Willowdale West  4bf58dd8d48988d1ca941735   \n1498  Willowdale, Willowdale West  4bf58dd8d48988d10f951735   \n1499  Willowdale, Willowdale West  4bf58dd8d48988d118951735   \n1467      Willowdale, Newtonbrook  4bf58dd8d48988d163941735   \n32                Bayview Village  4bf58dd8d48988d16d941735   \n33                Bayview Village  4bf58dd8d48988d145941735   \n34                Bayview Village  4bf58dd8d48988d111941735   \n35                Bayview Village  4bf58dd8d48988d10a951735   \n\n           Venue Category  Neighborhood Latitude  Neighborhood Longitude  \\\n1495          Supermarket                      1                       1   \n1496          Coffee Shop                      1                       1   \n1497          Pizza Place                      1                       1   \n1498             Pharmacy                      1                       1   \n1499        Grocery Store                      1                       1   \n1467                 Park                      1                       1   \n32                   Caf\u00e9                      1                       1   \n33     Chinese Restaurant                      1                       1   \n34    Japanese Restaurant                      1                       1   \n35                   Bank                      1                       1   \n\n      Frequency  Venue  Venue Latitude  Venue Longitude  \n1495          1      1               1                1  \n1496          1      1               1                1  \n1497          1      1               1                1  \n1498          1      1               1                1  \n1499          1      1               1                1  \n1467          1      1               1                1  \n32            1      1               1                1  \n33            1      1               1                1  \n34            1      1               1                1  \n35            1      1               1                1  ",
                        "text/html": "<div>\n<style scoped>\n    .dataframe tbody tr th:only-of-type {\n        vertical-align: middle;\n    }\n\n    .dataframe tbody tr th {\n        vertical-align: top;\n    }\n\n    .dataframe thead th {\n        text-align: right;\n    }\n</style>\n<table border=\"1\" class=\"dataframe\">\n  <thead>\n    <tr style=\"text-align: right;\">\n      <th></th>\n      <th>Neighborhood</th>\n      <th>Category ID</th>\n      <th>Venue Category</th>\n      <th>Neighborhood Latitude</th>\n      <th>Neighborhood Longitude</th>\n      <th>Frequency</th>\n      <th>Venue</th>\n      <th>Venue Latitude</th>\n      <th>Venue Longitude</th>\n    </tr>\n  </thead>\n  <tbody>\n    <tr>\n      <th>1495</th>\n      <td>Willowdale, Willowdale West</td>\n      <td>52f2ab2ebcbc57f1066b8b46</td>\n      <td>Supermarket</td>\n      <td>1</td>\n      <td>1</td>\n      <td>1</td>\n      <td>1</td>\n      <td>1</td>\n      <td>1</td>\n    </tr>\n    <tr>\n      <th>1496</th>\n      <td>Willowdale, Willowdale West</td>\n      <td>4bf58dd8d48988d1e0931735</td>\n      <td>Coffee Shop</td>\n      <td>1</td>\n      <td>1</td>\n      <td>1</td>\n      <td>1</td>\n      <td>1</td>\n      <td>1</td>\n    </tr>\n    <tr>\n      <th>1497</th>\n      <td>Willowdale, Willowdale West</td>\n      <td>4bf58dd8d48988d1ca941735</td>\n      <td>Pizza Place</td>\n      <td>1</td>\n      <td>1</td>\n      <td>1</td>\n      <td>1</td>\n      <td>1</td>\n      <td>1</td>\n    </tr>\n    <tr>\n      <th>1498</th>\n      <td>Willowdale, Willowdale West</td>\n      <td>4bf58dd8d48988d10f951735</td>\n      <td>Pharmacy</td>\n      <td>1</td>\n      <td>1</td>\n      <td>1</td>\n      <td>1</td>\n      <td>1</td>\n      <td>1</td>\n    </tr>\n    <tr>\n      <th>1499</th>\n      <td>Willowdale, Willowdale West</td>\n      <td>4bf58dd8d48988d118951735</td>\n      <td>Grocery Store</td>\n      <td>1</td>\n      <td>1</td>\n      <td>1</td>\n      <td>1</td>\n      <td>1</td>\n      <td>1</td>\n    </tr>\n    <tr>\n      <th>1467</th>\n      <td>Willowdale, Newtonbrook</td>\n      <td>4bf58dd8d48988d163941735</td>\n      <td>Park</td>\n      <td>1</td>\n      <td>1</td>\n      <td>1</td>\n      <td>1</td>\n      <td>1</td>\n      <td>1</td>\n    </tr>\n    <tr>\n      <th>32</th>\n      <td>Bayview Village</td>\n      <td>4bf58dd8d48988d16d941735</td>\n      <td>Caf\u00e9</td>\n      <td>1</td>\n      <td>1</td>\n      <td>1</td>\n      <td>1</td>\n      <td>1</td>\n      <td>1</td>\n    </tr>\n    <tr>\n      <th>33</th>\n      <td>Bayview Village</td>\n      <td>4bf58dd8d48988d145941735</td>\n      <td>Chinese Restaurant</td>\n      <td>1</td>\n      <td>1</td>\n      <td>1</td>\n      <td>1</td>\n      <td>1</td>\n      <td>1</td>\n    </tr>\n    <tr>\n      <th>34</th>\n      <td>Bayview Village</td>\n      <td>4bf58dd8d48988d111941735</td>\n      <td>Japanese Restaurant</td>\n      <td>1</td>\n      <td>1</td>\n      <td>1</td>\n      <td>1</td>\n      <td>1</td>\n      <td>1</td>\n    </tr>\n    <tr>\n      <th>35</th>\n      <td>Bayview Village</td>\n      <td>4bf58dd8d48988d10a951735</td>\n      <td>Bank</td>\n      <td>1</td>\n      <td>1</td>\n      <td>1</td>\n      <td>1</td>\n      <td>1</td>\n      <td>1</td>\n    </tr>\n  </tbody>\n</table>\n</div>"
                    },
                    "metadata": {}
                }
            ]
        },
        {
            "metadata": {},
            "cell_type": "code",
            "source": "df_Recommendations=df_Recommendations[-df_Recommendations['Category ID'].isin(nextNeigh['Category ID'].tolist())]\ndf_Recommendations.shape",
            "execution_count": 32,
            "outputs": [
                {
                    "output_type": "execute_result",
                    "execution_count": 32,
                    "data": {
                        "text/plain": "(153, 3)"
                    },
                    "metadata": {}
                }
            ]
        },
        {
            "metadata": {},
            "cell_type": "markdown",
            "source": "## Results"
        },
        {
            "metadata": {},
            "cell_type": "code",
            "source": "df_Recommendations.head(20)",
            "execution_count": 33,
            "outputs": [
                {
                    "output_type": "execute_result",
                    "execution_count": 33,
                    "data": {
                        "text/plain": "                 Category ID                 Venue Category  \\\n2   4bf58dd8d48988d16a941735                         Bakery   \n3   4bf58dd8d48988d110941735             Italian Restaurant   \n7   4bf58dd8d48988d149941735                Thai Restaurant   \n8   4bf58dd8d48988d155941735                      Gastropub   \n10  4bf58dd8d48988d143941735                 Breakfast Spot   \n11  4bf58dd8d48988d147941735                          Diner   \n14  4bf58dd8d48988d1e2931735                    Art Gallery   \n15  4bf58dd8d48988d1ce941735             Seafood Restaurant   \n16  4bf58dd8d48988d114951735                      Bookstore   \n17  4bf58dd8d48988d116941735                            Bar   \n18  4bf58dd8d48988d176941735                            Gym   \n19  4bf58dd8d48988d1d3941735  Vegetarian / Vegan Restaurant   \n20  4bf58dd8d48988d11b941735                            Pub   \n21  4bf58dd8d48988d103951735                 Clothing Store   \n22  4bf58dd8d48988d142941735               Asian Restaurant   \n24  4bf58dd8d48988d10c941735              French Restaurant   \n26  4bf58dd8d48988d175941735           Gym / Fitness Center   \n27  4bf58dd8d48988d102941735                    Yoga Studio   \n29  4bf58dd8d48988d1fa941735                 Farmers Market   \n30  4bf58dd8d48988d1e7931735                      Jazz Club   \n\n    sum_similarityIndex  \n2              8.670215  \n3              7.965109  \n7              6.574352  \n8              5.990489  \n10             5.556232  \n11             5.500840  \n14             4.920902  \n15             4.804869  \n16             4.712067  \n17             4.657645  \n18             4.471747  \n19             4.361945  \n20             4.318102  \n21             4.311917  \n22             4.032791  \n24             3.800281  \n26             3.557120  \n27             3.505968  \n29             3.434536  \n30             3.386072  ",
                        "text/html": "<div>\n<style scoped>\n    .dataframe tbody tr th:only-of-type {\n        vertical-align: middle;\n    }\n\n    .dataframe tbody tr th {\n        vertical-align: top;\n    }\n\n    .dataframe thead th {\n        text-align: right;\n    }\n</style>\n<table border=\"1\" class=\"dataframe\">\n  <thead>\n    <tr style=\"text-align: right;\">\n      <th></th>\n      <th>Category ID</th>\n      <th>Venue Category</th>\n      <th>sum_similarityIndex</th>\n    </tr>\n  </thead>\n  <tbody>\n    <tr>\n      <th>2</th>\n      <td>4bf58dd8d48988d16a941735</td>\n      <td>Bakery</td>\n      <td>8.670215</td>\n    </tr>\n    <tr>\n      <th>3</th>\n      <td>4bf58dd8d48988d110941735</td>\n      <td>Italian Restaurant</td>\n      <td>7.965109</td>\n    </tr>\n    <tr>\n      <th>7</th>\n      <td>4bf58dd8d48988d149941735</td>\n      <td>Thai Restaurant</td>\n      <td>6.574352</td>\n    </tr>\n    <tr>\n      <th>8</th>\n      <td>4bf58dd8d48988d155941735</td>\n      <td>Gastropub</td>\n      <td>5.990489</td>\n    </tr>\n    <tr>\n      <th>10</th>\n      <td>4bf58dd8d48988d143941735</td>\n      <td>Breakfast Spot</td>\n      <td>5.556232</td>\n    </tr>\n    <tr>\n      <th>11</th>\n      <td>4bf58dd8d48988d147941735</td>\n      <td>Diner</td>\n      <td>5.500840</td>\n    </tr>\n    <tr>\n      <th>14</th>\n      <td>4bf58dd8d48988d1e2931735</td>\n      <td>Art Gallery</td>\n      <td>4.920902</td>\n    </tr>\n    <tr>\n      <th>15</th>\n      <td>4bf58dd8d48988d1ce941735</td>\n      <td>Seafood Restaurant</td>\n      <td>4.804869</td>\n    </tr>\n    <tr>\n      <th>16</th>\n      <td>4bf58dd8d48988d114951735</td>\n      <td>Bookstore</td>\n      <td>4.712067</td>\n    </tr>\n    <tr>\n      <th>17</th>\n      <td>4bf58dd8d48988d116941735</td>\n      <td>Bar</td>\n      <td>4.657645</td>\n    </tr>\n    <tr>\n      <th>18</th>\n      <td>4bf58dd8d48988d176941735</td>\n      <td>Gym</td>\n      <td>4.471747</td>\n    </tr>\n    <tr>\n      <th>19</th>\n      <td>4bf58dd8d48988d1d3941735</td>\n      <td>Vegetarian / Vegan Restaurant</td>\n      <td>4.361945</td>\n    </tr>\n    <tr>\n      <th>20</th>\n      <td>4bf58dd8d48988d11b941735</td>\n      <td>Pub</td>\n      <td>4.318102</td>\n    </tr>\n    <tr>\n      <th>21</th>\n      <td>4bf58dd8d48988d103951735</td>\n      <td>Clothing Store</td>\n      <td>4.311917</td>\n    </tr>\n    <tr>\n      <th>22</th>\n      <td>4bf58dd8d48988d142941735</td>\n      <td>Asian Restaurant</td>\n      <td>4.032791</td>\n    </tr>\n    <tr>\n      <th>24</th>\n      <td>4bf58dd8d48988d10c941735</td>\n      <td>French Restaurant</td>\n      <td>3.800281</td>\n    </tr>\n    <tr>\n      <th>26</th>\n      <td>4bf58dd8d48988d175941735</td>\n      <td>Gym / Fitness Center</td>\n      <td>3.557120</td>\n    </tr>\n    <tr>\n      <th>27</th>\n      <td>4bf58dd8d48988d102941735</td>\n      <td>Yoga Studio</td>\n      <td>3.505968</td>\n    </tr>\n    <tr>\n      <th>29</th>\n      <td>4bf58dd8d48988d1fa941735</td>\n      <td>Farmers Market</td>\n      <td>3.434536</td>\n    </tr>\n    <tr>\n      <th>30</th>\n      <td>4bf58dd8d48988d1e7931735</td>\n      <td>Jazz Club</td>\n      <td>3.386072</td>\n    </tr>\n  </tbody>\n</table>\n</div>"
                    },
                    "metadata": {}
                }
            ]
        },
        {
            "metadata": {},
            "cell_type": "code",
            "source": "",
            "execution_count": null,
            "outputs": []
        }
    ],
    "metadata": {
        "kernelspec": {
            "name": "python3",
            "display_name": "Python 3.7",
            "language": "python"
        },
        "language_info": {
            "name": "python",
            "version": "3.7.10",
            "mimetype": "text/x-python",
            "codemirror_mode": {
                "name": "ipython",
                "version": 3
            },
            "pygments_lexer": "ipython3",
            "nbconvert_exporter": "python",
            "file_extension": ".py"
        }
    },
    "nbformat": 4,
    "nbformat_minor": 1
}